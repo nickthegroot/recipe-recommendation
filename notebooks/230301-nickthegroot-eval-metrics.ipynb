{
 "cells": [
  {
   "attachments": {},
   "cell_type": "markdown",
   "metadata": {},
   "source": [
    "# Eval Metrics"
   ]
  },
  {
   "cell_type": "code",
   "execution_count": 1,
   "metadata": {},
   "outputs": [],
   "source": [
    "%load_ext autoreload\n",
    "%autoreload 2"
   ]
  },
  {
   "cell_type": "code",
   "execution_count": 2,
   "metadata": {},
   "outputs": [],
   "source": [
    "from src.models.loader import DataModule"
   ]
  },
  {
   "cell_type": "code",
   "execution_count": 10,
   "metadata": {},
   "outputs": [
    {
     "data": {
      "text/plain": [
       "HeteroData(\n",
       "  \u001b[1mrecipe\u001b[0m={\n",
       "    x=[231637, 9],\n",
       "    id=[231637]\n",
       "  },\n",
       "  \u001b[1muser\u001b[0m={\n",
       "    x=[226570, 0],\n",
       "    id=[226570]\n",
       "  },\n",
       "  \u001b[1m(user, reviews, recipe)\u001b[0m={\n",
       "    edge_index=[2, 905895],\n",
       "    edge_attr=[905895],\n",
       "    edge_label=[113236],\n",
       "    edge_label_index=[2, 113236]\n",
       "  },\n",
       "  \u001b[1m(recipe, rev_reviews, user)\u001b[0m={\n",
       "    edge_index=[2, 905895],\n",
       "    edge_attr=[905895]\n",
       "  }\n",
       ")"
      ]
     },
     "execution_count": 10,
     "metadata": {},
     "output_type": "execute_result"
    }
   ],
   "source": [
    "dm = DataModule()\n",
    "dm.val_data"
   ]
  },
  {
   "cell_type": "code",
   "execution_count": 17,
   "metadata": {},
   "outputs": [
    {
     "data": {
      "text/plain": [
       "HeteroData(\n",
       "  \u001b[1mrecipe\u001b[0m={\n",
       "    x=[181785, 9],\n",
       "    id=[181785]\n",
       "  },\n",
       "  \u001b[1muser\u001b[0m={\n",
       "    x=[148937, 0],\n",
       "    id=[148937]\n",
       "  },\n",
       "  \u001b[1m(user, reviews, recipe)\u001b[0m={\n",
       "    edge_index=[2, 751213],\n",
       "    edge_attr=[751213],\n",
       "    edge_label_index=[2, 2048],\n",
       "    input_id=[2048]\n",
       "  },\n",
       "  \u001b[1m(recipe, rev_reviews, user)\u001b[0m={\n",
       "    edge_index=[2, 668586],\n",
       "    edge_attr=[668586]\n",
       "  }\n",
       ")"
      ]
     },
     "execution_count": 17,
     "metadata": {},
     "output_type": "execute_result"
    }
   ],
   "source": [
    "x = next(iter(dm.val_dataloader()))\n",
    "x"
   ]
  },
  {
   "cell_type": "code",
   "execution_count": 19,
   "metadata": {},
   "outputs": [
    {
     "data": {
      "text/plain": [
       "tensor([[1434, 1618,   76,  ...,  675,  200, 1477],\n",
       "        [1250,  762,  170,  ...,  702,  604, 1778]])"
      ]
     },
     "execution_count": 19,
     "metadata": {},
     "output_type": "execute_result"
    }
   ],
   "source": [
    "x['reviews'].edge_label_index"
   ]
  },
  {
   "cell_type": "code",
   "execution_count": null,
   "metadata": {},
   "outputs": [],
   "source": []
  }
 ],
 "metadata": {
  "kernelspec": {
   "display_name": "Python 3",
   "language": "python",
   "name": "python3"
  },
  "language_info": {
   "codemirror_mode": {
    "name": "ipython",
    "version": 3
   },
   "file_extension": ".py",
   "mimetype": "text/x-python",
   "name": "python",
   "nbconvert_exporter": "python",
   "pygments_lexer": "ipython3",
   "version": "3.9.16"
  },
  "orig_nbformat": 4,
  "vscode": {
   "interpreter": {
    "hash": "949777d72b0d2535278d3dc13498b2535136f6dfe0678499012e853ee9abcab1"
   }
  }
 },
 "nbformat": 4,
 "nbformat_minor": 2
}
