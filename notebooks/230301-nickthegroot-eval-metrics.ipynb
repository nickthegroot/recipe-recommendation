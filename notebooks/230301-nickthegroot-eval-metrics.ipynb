{
 "cells": [
  {
   "cell_type": "code",
   "execution_count": 1,
   "metadata": {},
   "outputs": [],
   "source": [
    "from src.models.loader import DataModule\n",
    "from src.models.heterolgn import HeteroLGN\n",
    "\n",
    "import pytorch_lightning as pl\n",
    "import torch\n",
    "import torch.nn as nn\n",
    "import torch.nn.functional as F\n",
    "from torch_geometric.data import HeteroData\n",
    "from torch_geometric.utils import to_torch_coo_tensor\n",
    "from torchmetrics import RetrievalPrecision, RetrievalRecall"
   ]
  },
  {
   "cell_type": "code",
   "execution_count": 2,
   "metadata": {},
   "outputs": [
    {
     "data": {
      "text/plain": [
       "HeteroData(\n",
       "  \u001b[1mrecipe\u001b[0m={\n",
       "    x=[1886, 9],\n",
       "    id=[1886],\n",
       "    dst_pos_index=[128],\n",
       "    dst_neg_index=[128]\n",
       "  },\n",
       "  \u001b[1muser\u001b[0m={\n",
       "    x=[1300, 0],\n",
       "    id=[1300],\n",
       "    src_index=[128]\n",
       "  },\n",
       "  \u001b[1m(user, reviews, recipe)\u001b[0m={\n",
       "    edge_index=[2, 1657],\n",
       "    edge_attr=[1657],\n",
       "    edge_label=[1811790],\n",
       "    edge_label_index=[2, 1811790],\n",
       "    input_id=[128]\n",
       "  },\n",
       "  \u001b[1m(recipe, rev_reviews, user)\u001b[0m={\n",
       "    edge_index=[2, 1874],\n",
       "    edge_attr=[1874]\n",
       "  }\n",
       ")"
      ]
     },
     "execution_count": 2,
     "metadata": {},
     "output_type": "execute_result"
    }
   ],
   "source": [
    "dm = DataModule(batch_size=128)\n",
    "x = next(iter(dm.train_dataloader()))\n",
    "x"
   ]
  },
  {
   "cell_type": "code",
   "execution_count": 3,
   "metadata": {},
   "outputs": [
    {
     "data": {
      "text/plain": [
       "HeteroLGN(\n",
       "  (usr_embedding): Embedding(226570, 64)\n",
       "  (rec_embedding): Embedding(231637, 64)\n",
       "  (conv): HeteroLGConv()\n",
       "  (recall): RetrievalRecall()\n",
       "  (precision): RetrievalPrecision()\n",
       ")"
      ]
     },
     "execution_count": 3,
     "metadata": {},
     "output_type": "execute_result"
    }
   ],
   "source": [
    "model = HeteroLGN(num_users=dm.num_users, num_recipes=dm.num_recipes)\n",
    "model"
   ]
  },
  {
   "cell_type": "code",
   "execution_count": 4,
   "metadata": {},
   "outputs": [],
   "source": [
    "usr_out, rec_out = model.forward(x.id_dict, x.edge_index_dict)"
   ]
  },
  {
   "cell_type": "code",
   "execution_count": 5,
   "metadata": {},
   "outputs": [],
   "source": [
    "import torch.nn.functional as F"
   ]
  },
  {
   "cell_type": "code",
   "execution_count": 6,
   "metadata": {},
   "outputs": [],
   "source": [
    "scores = usr_out @ rec_out.T\n",
    "indicies = torch.arange(scores.size(0))[:, None].expand_as(scores)\n",
    "target = to_torch_coo_tensor(\n",
    "    x[\"user\", \"reviews\", \"recipe\"].edge_index,\n",
    "    size=(usr_out.size(0), rec_out.size(0))\n",
    "    # Current limitations with metrics require dense version :(\n",
    ").to_dense()\n",
    "    "
   ]
  },
  {
   "cell_type": "code",
   "execution_count": 15,
   "metadata": {},
   "outputs": [
    {
     "data": {
      "text/plain": [
       "tensor(0.8786)"
      ]
     },
     "execution_count": 15,
     "metadata": {},
     "output_type": "execute_result"
    }
   ],
   "source": [
    "target.sum(axis=0).mean()"
   ]
  },
  {
   "cell_type": "code",
   "execution_count": 30,
   "metadata": {},
   "outputs": [
    {
     "data": {
      "text/plain": [
       "tensor(0.)"
      ]
     },
     "execution_count": 30,
     "metadata": {},
     "output_type": "execute_result"
    }
   ],
   "source": [
    "from torchmetrics import RetrievalPrecision\n",
    "p2 = RetrievalPrecision(k=10)\n",
    "p2(scores[1], target[1], indexes=indicies[1])"
   ]
  },
  {
   "cell_type": "code",
   "execution_count": 14,
   "metadata": {},
   "outputs": [
    {
     "data": {
      "text/plain": [
       "(torch.Size([1292, 64]), torch.Size([1841, 64]))"
      ]
     },
     "execution_count": 14,
     "metadata": {},
     "output_type": "execute_result"
    }
   ],
   "source": [
    "usr_out.shape, rec_out.shape"
   ]
  },
  {
   "cell_type": "code",
   "execution_count": 10,
   "metadata": {},
   "outputs": [
    {
     "data": {
      "text/plain": [
       "(torch.Size([1292, 1841]), torch.Size([1292, 1292]), torch.Size([1292, 1841]))"
      ]
     },
     "execution_count": 10,
     "metadata": {},
     "output_type": "execute_result"
    }
   ],
   "source": [
    "scores.shape, target.shape, indicies.shape"
   ]
  },
  {
   "cell_type": "code",
   "execution_count": 31,
   "metadata": {},
   "outputs": [
    {
     "data": {
      "text/plain": [
       "tensor([[ 86],\n",
       "        [152],\n",
       "        [260],\n",
       "        [262],\n",
       "        [263],\n",
       "        [264]])"
      ]
     },
     "execution_count": 31,
     "metadata": {},
     "output_type": "execute_result"
    }
   ],
   "source": [
    "target[1].nonzero()"
   ]
  },
  {
   "cell_type": "code",
   "execution_count": 32,
   "metadata": {},
   "outputs": [
    {
     "data": {
      "text/plain": [
       "tensor([  2,  22, 615,  47, 130,   0, 156, 193,  26, 245])"
      ]
     },
     "execution_count": 32,
     "metadata": {},
     "output_type": "execute_result"
    }
   ],
   "source": [
    "scores[1].topk(10).indices"
   ]
  },
  {
   "cell_type": "code",
   "execution_count": null,
   "metadata": {},
   "outputs": [],
   "source": []
  }
 ],
 "metadata": {
  "kernelspec": {
   "display_name": "Python 3 (ipykernel)",
   "language": "python",
   "name": "python3"
  },
  "language_info": {
   "codemirror_mode": {
    "name": "ipython",
    "version": 3
   },
   "file_extension": ".py",
   "mimetype": "text/x-python",
   "name": "python",
   "nbconvert_exporter": "python",
   "pygments_lexer": "ipython3",
   "version": "3.9.16"
  },
  "orig_nbformat": 4
 },
 "nbformat": 4,
 "nbformat_minor": 2
}
