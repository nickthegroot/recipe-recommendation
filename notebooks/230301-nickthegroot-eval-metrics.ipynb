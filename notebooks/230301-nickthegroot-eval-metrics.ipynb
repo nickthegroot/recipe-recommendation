{
 "cells": [
  {
   "cell_type": "code",
   "execution_count": 1,
   "metadata": {},
   "outputs": [],
   "source": [
    "from src.models.loader import DataModule\n",
    "from src.models.heterolgn import HeteroLGN\n",
    "from torch_geometric.utils import to_torch_coo_tensor\n",
    "import torch"
   ]
  },
  {
   "cell_type": "code",
   "execution_count": 2,
   "metadata": {},
   "outputs": [
    {
     "data": {
      "text/plain": [
       "HeteroData(\n",
       "  \u001b[1mrecipe\u001b[0m={\n",
       "    x=[196513, 9],\n",
       "    id=[196513]\n",
       "  },\n",
       "  \u001b[1muser\u001b[0m={\n",
       "    x=[175418, 0],\n",
       "    id=[175418],\n",
       "    input_id=[4096],\n",
       "    batch_size=4096\n",
       "  },\n",
       "  \u001b[1m(user, reviews, recipe)\u001b[0m={\n",
       "    edge_index=[2, 887502],\n",
       "    edge_attr=[887502],\n",
       "    edge_label=[113236],\n",
       "    edge_label_index=[2, 113236]\n",
       "  },\n",
       "  \u001b[1m(recipe, rev_reviews, user)\u001b[0m={\n",
       "    edge_index=[2, 871479],\n",
       "    edge_attr=[871479]\n",
       "  }\n",
       ")"
      ]
     },
     "execution_count": 2,
     "metadata": {},
     "output_type": "execute_result"
    }
   ],
   "source": [
    "dm = DataModule()\n",
    "x = next(iter(dm.val_dataloader()))\n",
    "x"
   ]
  },
  {
   "cell_type": "code",
   "execution_count": 3,
   "metadata": {},
   "outputs": [
    {
     "data": {
      "text/plain": [
       "HeteroLGN(\n",
       "  (usr_embedding): Embedding(226570, 64)\n",
       "  (rec_embedding): Embedding(231637, 64)\n",
       "  (conv): HeteroLGConv()\n",
       "  (ret_recall): RetrievalRecall()\n",
       "  (ret_precision): RetrievalPrecision()\n",
       ")"
      ]
     },
     "execution_count": 3,
     "metadata": {},
     "output_type": "execute_result"
    }
   ],
   "source": [
    "model = HeteroLGN(dm.num_users, dm.num_recipes)\n",
    "model"
   ]
  },
  {
   "cell_type": "code",
   "execution_count": 4,
   "metadata": {},
   "outputs": [],
   "source": [
    "usr_out, rec_out = model(x.id_dict, x.edge_index_dict)"
   ]
  },
  {
   "cell_type": "code",
   "execution_count": 5,
   "metadata": {},
   "outputs": [
    {
     "data": {
      "text/plain": [
       "tensor([[ 1.8263,  2.3983,  0.3323,  ..., -0.3137, -1.8601, -0.1606],\n",
       "        [ 0.1502, -0.1459,  0.4423,  ...,  1.5803,  2.9280,  1.2659],\n",
       "        [-0.8941, -0.7495, -1.3372,  ..., -0.8654, -1.2251, -0.0581],\n",
       "        ...,\n",
       "        [ 1.3590,  2.9683, -0.3041,  ..., -0.2137, -1.8921, -0.9454],\n",
       "        [-0.5580,  0.3409, -0.3236,  ..., -0.1067,  1.1448, -0.0127],\n",
       "        [ 0.8628, -0.8140, -0.4360,  ..., -2.5169, -2.5813, -1.2297]],\n",
       "       grad_fn=<MmBackward0>)"
      ]
     },
     "execution_count": 5,
     "metadata": {},
     "output_type": "execute_result"
    }
   ],
   "source": [
    "input_ids = x['user'].input_id\n",
    "scores = usr_out[input_ids] @ rec_out.T\n",
    "scores"
   ]
  },
  {
   "cell_type": "code",
   "execution_count": 9,
   "metadata": {},
   "outputs": [
    {
     "data": {
      "text/plain": [
       "torch.Size([4096, 196513])"
      ]
     },
     "execution_count": 9,
     "metadata": {},
     "output_type": "execute_result"
    }
   ],
   "source": [
    "scores.shape"
   ]
  },
  {
   "cell_type": "code",
   "execution_count": 10,
   "metadata": {},
   "outputs": [
    {
     "ename": "",
     "evalue": "",
     "output_type": "error",
     "traceback": [
      "\u001b[1;31mCanceled future for execute_request message before replies were done"
     ]
    },
    {
     "ename": "",
     "evalue": "",
     "output_type": "error",
     "traceback": [
      "\u001b[1;31mThe Kernel crashed while executing code in the the current cell or a previous cell. Please review the code in the cell(s) to identify a possible cause of the failure. Click <a href='https://aka.ms/vscodeJupyterKernelCrash'>here</a> for more info. View Jupyter <a href='command:jupyter.viewOutput'>log</a> for further details."
     ]
    }
   ],
   "source": [
    "k = 10\n",
    "batch_size = scores.size(0)\n",
    "top_scores = scores.topk(k, dim=-1).indices\n",
    "\n",
    "preds = torch.sparse_coo_tensor(\n",
    "    indices=torch.vstack([\n",
    "        input_ids[:, None].expand_as(scores).flatten(),\n",
    "        top_scores.flatten()\n",
    "    ]),\n",
    "    values=torch.ones(batch_size * k),\n",
    ")\n",
    "preds"
   ]
  },
  {
   "cell_type": "code",
   "execution_count": 107,
   "metadata": {},
   "outputs": [
    {
     "data": {
      "text/plain": [
       "(tensor(2966), tensor(3786))"
      ]
     },
     "execution_count": 107,
     "metadata": {},
     "output_type": "execute_result"
    }
   ],
   "source": [
    "batch_users, batch_recipes"
   ]
  },
  {
   "cell_type": "code",
   "execution_count": 100,
   "metadata": {},
   "outputs": [
    {
     "ename": "AttributeError",
     "evalue": "'torch.Size' object has no attribute 'sum'",
     "output_type": "error",
     "traceback": [
      "\u001b[0;31m---------------------------------------------------------------------------\u001b[0m",
      "\u001b[0;31mAttributeError\u001b[0m                            Traceback (most recent call last)",
      "Cell \u001b[0;32mIn[100], line 1\u001b[0m\n\u001b[0;32m----> 1\u001b[0m usr_idx\u001b[39m.\u001b[39;49mshape\u001b[39m.\u001b[39;49msum()\n",
      "\u001b[0;31mAttributeError\u001b[0m: 'torch.Size' object has no attribute 'sum'"
     ]
    }
   ],
   "source": []
  },
  {
   "cell_type": "code",
   "execution_count": 113,
   "metadata": {},
   "outputs": [
    {
     "data": {
      "text/plain": [
       "tensor(indices=tensor([[   0,    0,    0,  ..., 2964, 2965, 2966],\n",
       "                       [ 866, 1734, 2666,  ...,  541, 2378, 2042]]),\n",
       "       values=tensor([1., 1., 1.,  ..., 1., 1., 1.]),\n",
       "       size=(3787, 3787), nnz=4096, layout=torch.sparse_coo)"
      ]
     },
     "execution_count": 113,
     "metadata": {},
     "output_type": "execute_result"
    }
   ],
   "source": [
    "target = to_torch_coo_tensor(x['reviews'].edge_label_index)\n",
    "target"
   ]
  }
 ],
 "metadata": {
  "kernelspec": {
   "display_name": "Python 3",
   "language": "python",
   "name": "python3"
  },
  "language_info": {
   "codemirror_mode": {
    "name": "ipython",
    "version": 3
   },
   "file_extension": ".py",
   "mimetype": "text/x-python",
   "name": "python",
   "nbconvert_exporter": "python",
   "pygments_lexer": "ipython3",
   "version": "3.9.16"
  },
  "orig_nbformat": 4
 },
 "nbformat": 4,
 "nbformat_minor": 2
}
